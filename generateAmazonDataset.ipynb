{
 "cells": [
  {
   "cell_type": "code",
   "execution_count": 1,
   "id": "1b6e3b20",
   "metadata": {},
   "outputs": [],
   "source": [
    "import os\n",
    "import numpy as np\n",
    "import tensorflow as tf\n",
    "from tensorflow import keras\n",
    "from tensorflow.keras import layers\n",
    "import matplotlib.pyplot as plt"
   ]
  },
  {
   "cell_type": "code",
   "execution_count": 2,
   "id": "d2a09fb1",
   "metadata": {},
   "outputs": [],
   "source": [
    "#reads a file. Each line has the format: label text\n",
    "#Returns a list with the text and a list with the labels\n",
    "def readData(fname):\n",
    "\n",
    "    with open(fname, 'r', encoding=\"utf-8\") as f:\n",
    "        fileData = f.read()\n",
    "  \n",
    "    lines = fileData.split(\"\\n\")\n",
    "    textData = list()\n",
    "    textLabel = list()\n",
    "    lineLength = np.zeros(len(lines))\n",
    "    \n",
    "    for i, aLine in enumerate(lines):     \n",
    "        if not aLine:\n",
    "            break  \n",
    "        label = aLine.split(\" \")[0]\n",
    "        lineLength[i] = len(aLine.split(\" \"))\n",
    "        if(label == \"__label__1\"):\n",
    "            textLabel.append(0)\n",
    "            textData.append(aLine.removeprefix(\"__label__1 \"))\n",
    "\n",
    "        elif(label == \"__label__2\"):\n",
    "            textLabel.append(1)\n",
    "            textData.append(aLine.removeprefix(\"__label__2 \"))\n",
    "\n",
    "        else:\n",
    "            print(\"\\nError in readData: \", i, aLine)\n",
    "            exit()\n",
    "    \n",
    "    f.close()\n",
    "    return textData, textLabel, int(np.average(lineLength)+2*np.std(lineLength))"
   ]
  },
  {
   "cell_type": "code",
   "execution_count": null,
   "id": "2731ee70",
   "metadata": {},
   "outputs": [],
   "source": [
    "def transformData(x_train, y_train, x_test, y_test, maxFeatures, seqLength):\n",
    "    #transforms text input to int input based on the vocabulary\n",
    "    #max_tokens = maxFeatures is the size of the vocabulary\n",
    "    #output_sequence_length =  seqLength is the maximum length of the transformed text. Adds 0 is text length is shorter\n",
    "    precLayer = layers.TextVectorization(max_tokens = maxFeatures, \n",
    "    standardize =  'lower_and_strip_punctuation', split = 'whitespace', output_mode = 'int', \n",
    "    output_sequence_length =  seqLength)\n",
    "    precLayer.adapt(x_train)\n",
    "    #print(precLayer.get_vocabulary())\n",
    "    x_train_int = precLayer(x_train)\n",
    "    y_train = tf.convert_to_tensor(y_train)\n",
    "    #print(x_train_int)\n",
    "    #print(y_train)\n",
    "    x_test_int= precLayer(x_test)\n",
    "    y_test = tf.convert_to_tensor(y_test)\n",
    "    #print(x_test_int)\n",
    "    #print(y_test)\n",
    "\n",
    "    return x_train_int, y_train, x_test_int, y_test"
   ]
  },
  {
   "cell_type": "code",
   "execution_count": null,
   "id": "db189834",
   "metadata": {},
   "outputs": [],
   "source": [
    "x_train, y_train, seqLength = readData(\"amazon/train_small.txt\")\n",
    "x_test, y_test, tmp = readData(\"amazon/test_small.txt\")\n",
    "\n",
    "#maxFeatures is a hyperparameter\n",
    "\n",
    "x_train_int, y_train, x_test_int, y_test = transformData(x_train, y_train, x_test, y_test, \n",
    "maxFeatures, seqLength)"
   ]
  }
 ],
 "metadata": {
  "kernelspec": {
   "display_name": "myenv",
   "language": "python",
   "name": "python3"
  },
  "language_info": {
   "codemirror_mode": {
    "name": "ipython",
    "version": 3
   },
   "file_extension": ".py",
   "mimetype": "text/x-python",
   "name": "python",
   "nbconvert_exporter": "python",
   "pygments_lexer": "ipython3",
   "version": "3.10.15"
  }
 },
 "nbformat": 4,
 "nbformat_minor": 5
}
