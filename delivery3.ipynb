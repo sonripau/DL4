{
 "cells": [
  {
   "cell_type": "markdown",
   "id": "3988f315",
   "metadata": {},
   "source": [
    "# Deep Learning - Máster in Artificial Intelligence (UDC)\n",
    "## Amazon Reviews Sentiment Classification using RNNs - \n",
    "Date: 24/04/2025\n",
    "\n",
    "Authors:\n",
    "\n",
    "Paula Biderman Mato\n",
    "\n",
    "Celia Hermoso Soto"
   ]
  },
  {
   "cell_type": "markdown",
   "id": "b2644306",
   "metadata": {},
   "source": [
    "# Introduction\n",
    "In this part of the practice, the main objective is to build and evaluate different Recurrent Neural Networks (RNNs) for text classification. The dataset used consists of Amazon customer reviews, labeled with positive or negative sentiment. The goal is to train deep learning models that can accurately predict whether a review is positive (4 or 5 stars) or negative (1 or 2 stars).\n",
    "\n",
    "As we have seen throughout this subject, RNNs are a powerful type of deep learning architecture especially suited for sequential data such as text. They are able to capture temporal dependencies by maintaining a hidden state that is passed through time. In this practice, we use three RNN-based architectures: a simple RNN, an LSTM, and a bidirectional LSTM. These models are trained on a preprocessed version of the Amazon reviews dataset using Keras.\n",
    "\n",
    "Unlike CNNs in image classification, text classification problems require models that understand the sequential nature of language. RNNs, and in particular LSTMs, are designed to capture such dependencies, which makes them an appropriate choice for this task. In this notebook, we compare the performance of each architecture in terms of classification accuracy."
   ]
  },
  {
   "cell_type": "markdown",
   "id": "5556a9ab",
   "metadata": {},
   "source": [
    "To reuse functions and code outside a Jupyter environment, the notebook can be converted into a Python script using the nbconvert tool. This is particularly useful when we want to organize reusable components, such as data preprocessing or model definitions, into importable modules. The conversion is done with a single command: *!jupyter nbconvert --to script generateAmazonDataset.ipynb*\n",
    "This command transforms the notebook into a .py file by extracting all code cells and converting markdown cells into Python comments. The resulting script can then be edited, imported into other projects, or executed directly as a standalone Python program."
   ]
  },
  {
   "cell_type": "code",
   "execution_count": null,
   "id": "a1bec89e",
   "metadata": {},
   "outputs": [],
   "source": [
    "!jupyter nbconvert --to script generateAmazonDataset.ipynb"
   ]
  },
  {
   "cell_type": "code",
   "execution_count": 21,
   "id": "5ee71926",
   "metadata": {},
   "outputs": [],
   "source": [
    "import numpy as np\n",
    "import tensorflow as tf\n",
    "from tensorflow import keras\n",
    "from tensorflow.keras import layers\n",
    "from generateAmazonDataset import readData, transformData\n",
    "import matplotlib.pyplot as plt"
   ]
  },
  {
   "cell_type": "markdown",
   "id": "fd1923fd",
   "metadata": {},
   "source": [
    "# Load dataset\n",
    "We use the script provided by the instructors to load the dataset: generateAmazonDataset.ipynb. It contains two functions: readData and transformData. The readData function returns the training and test sets in raw text format, along with their binary sentiment labels. __label__1 corresponds to negative reviews (1 or 2 stars) and __label__2 to positive reviews (4 or 5 stars). Neutral reviews (3 stars) have been excluded.\n"
   ]
  },
  {
   "cell_type": "code",
   "execution_count": 26,
   "id": "76411720",
   "metadata": {},
   "outputs": [],
   "source": [
    "# Read the data and parse it from the files\n",
    "x_train, y_train, seqLength = readData(\"amazon/train_small.txt\")\n",
    "x_test, y_test, tmp = readData(\"amazon/test_small.txt\")\n",
    "\n",
    "#maxFeatures is a hyperparameter\n",
    "maxFeatures = 20000"
   ]
  },
  {
   "cell_type": "markdown",
   "id": "67abeef5",
   "metadata": {},
   "source": [
    "# Data Preparation and Splitting\n",
    "In this step, we use a preprocessed version of the Amazon reviews dataset. The text has already been transformed into sequences of integers, where each integer corresponds to a word from a limited vocabulary of size maxFeatures, and each sequence is padded or truncated to a fixed length defined by seqLength.\n",
    "\n",
    "After loading the training and testing sets using transformData, we split the original test set into two parts:\n",
    "\n",
    "The first 50% (x_test_split, y_test_split) will be used as the actual test set for final evaluation of the model after training.\n",
    "\n",
    "The remaining 50% (x_val_split, y_val_split) will be used as a validation set during training to monitor the model's performance and detect overfitting.\n",
    "\n",
    "This ensures a clean separation between training, validation, and testing data, allowing us to reliably evaluate how well the model generalizes.\n"
   ]
  },
  {
   "cell_type": "code",
   "execution_count": 27,
   "id": "0038b023",
   "metadata": {},
   "outputs": [],
   "source": [
    "# Split the data into training and testing\n",
    "x_train_int, y_train, x_test_int, y_test = transformData(x_train, y_train, x_test, y_test, \n",
    "maxFeatures, seqLength)\n",
    "\n",
    "testPercentage = 0.5\n",
    "testIndex = int(testPercentage * len(x_test_int))\n",
    "\n",
    "x_test_split = x_test_int[:testIndex]\n",
    "y_test_split = y_test[:testIndex]\n",
    "\n",
    "x_val_split = x_test_int[testIndex:]\n",
    "y_val_split = y_test[testIndex:]"
   ]
  },
  {
   "cell_type": "code",
   "execution_count": 28,
   "id": "b5513dca",
   "metadata": {},
   "outputs": [
    {
     "name": "stdout",
     "output_type": "stream",
     "text": [
      "Samples in training set: 25000\n",
      "Samples in test set: 12500\n",
      "Samples in validation set: 12500\n"
     ]
    }
   ],
   "source": [
    "# We print the number of samples in each set to confirm the data has been correctly loaded.\n",
    "print(f\"Samples in training set: {len(x_train_int)}\")\n",
    "print(f\"Samples in test set: {len(x_test_split)}\")\n",
    "print(f\"Samples in validation set: {len(x_val_split)}\")"
   ]
  },
  {
   "cell_type": "markdown",
   "id": "e9810576",
   "metadata": {},
   "source": [
    "After preprocessing, each input review is represented as a sequence of integers of fixed length, where each integer corresponds to a token (word) from the vocabulary. These numerical sequences are now ready to be used as input for training neural networks."
   ]
  },
  {
   "cell_type": "markdown",
   "id": "857d2d7e",
   "metadata": {},
   "source": [
    "# Build Model 1: SimpleRNN\n",
    "The first model uses a SimpleRNN layer, which is the most basic form of recurrent neural network. It maintains a hidden state that is updated step-by-step as it processes each word in the sequence. This allows the model to learn short-term dependencies in the text. However, SimpleRNN networks can struggle to capture long-term patterns due to the vanishing gradient problem, which will be addressed in later models using LSTM.\n",
    "\n",
    "Architecture overview:\n",
    "* Embedding layer: Converts integer word indices into dense vectors of size 64 (embedding_dim). For each input review of length seqLength, the output is a 2D matrix of shape (seqLength, 64).\n",
    "* SimpleRNN layer: Processes the embedded sequence one time step at a time and returns the final hidden state.\n",
    "* Dense layer: A single output neuron with a sigmoid activation function, which outputs a probability between 0 and 1 — suitable for binary classification (positive or negative review).\n",
    "\n",
    "The model is trained using the integer-encoded training data (x_train_int, y_train) and validated on a hold-out validation set (x_val_split, y_val_split). This allows monitoring of the model’s generalization performance during training.\n",
    "\n",
    "\n"
   ]
  },
  {
   "cell_type": "code",
   "execution_count": 9,
   "id": "c0df04df",
   "metadata": {},
   "outputs": [
    {
     "name": "stdout",
     "output_type": "stream",
     "text": [
      "Epoch 1/5\n"
     ]
    },
    {
     "name": "stderr",
     "output_type": "stream",
     "text": [
      "c:\\Users\\paulabiderman\\anaconda3\\lib\\site-packages\\keras\\src\\layers\\core\\embedding.py:90: UserWarning: Argument `input_length` is deprecated. Just remove it.\n",
      "  warnings.warn(\n"
     ]
    },
    {
     "name": "stdout",
     "output_type": "stream",
     "text": [
      "\u001b[1m391/391\u001b[0m \u001b[32m━━━━━━━━━━━━━━━━━━━━\u001b[0m\u001b[37m\u001b[0m \u001b[1m6s\u001b[0m 14ms/step - accuracy: 0.5080 - loss: 0.6950 - val_accuracy: 0.5182 - val_loss: 0.6945\n",
      "Epoch 2/5\n",
      "\u001b[1m391/391\u001b[0m \u001b[32m━━━━━━━━━━━━━━━━━━━━\u001b[0m\u001b[37m\u001b[0m \u001b[1m6s\u001b[0m 17ms/step - accuracy: 0.5320 - loss: 0.6878 - val_accuracy: 0.4777 - val_loss: 0.6978\n",
      "Epoch 3/5\n",
      "\u001b[1m391/391\u001b[0m \u001b[32m━━━━━━━━━━━━━━━━━━━━\u001b[0m\u001b[37m\u001b[0m \u001b[1m23s\u001b[0m 58ms/step - accuracy: 0.5330 - loss: 0.6821 - val_accuracy: 0.5223 - val_loss: 0.6947\n",
      "Epoch 4/5\n",
      "\u001b[1m391/391\u001b[0m \u001b[32m━━━━━━━━━━━━━━━━━━━━\u001b[0m\u001b[37m\u001b[0m \u001b[1m25s\u001b[0m 16ms/step - accuracy: 0.5491 - loss: 0.6636 - val_accuracy: 0.5250 - val_loss: 0.7025\n",
      "Epoch 5/5\n",
      "\u001b[1m391/391\u001b[0m \u001b[32m━━━━━━━━━━━━━━━━━━━━\u001b[0m\u001b[37m\u001b[0m \u001b[1m6s\u001b[0m 16ms/step - accuracy: 0.5442 - loss: 0.6566 - val_accuracy: 0.5234 - val_loss: 0.7164\n"
     ]
    }
   ],
   "source": [
    "embedding_dim = 64\n",
    "\n",
    "model_rnn = keras.Sequential([\n",
    "    layers.Embedding(maxFeatures, embedding_dim, input_length=seqLength),\n",
    "    layers.SimpleRNN(64),\n",
    "    layers.Dense(1, activation='sigmoid')\n",
    "])\n",
    "\n",
    "model_rnn.compile(optimizer='adam', loss='binary_crossentropy', metrics=['accuracy'])\n",
    "\n",
    "history_rnn = model_rnn.fit(\n",
    "    x_train_int, y_train,\n",
    "    validation_data=(x_val_split, y_val_split),\n",
    "    epochs=5,\n",
    "    batch_size=64\n",
    ")"
   ]
  },
  {
   "cell_type": "markdown",
   "id": "6f8eda78",
   "metadata": {},
   "source": [
    "The first model uses a SimpleRNN layer, implemented with a functional Keras API (Input, Model). This is the most basic type of recurrent neural network, where the hidden state is updated at each time step as the model processes the input sequence. This mechanism allows the network to learn short-term dependencies in the text. However, due to the vanishing gradient problem, SimpleRNN can struggle to retain information over long sequences, a limitation that will be addressed in later models using LSTM.\n",
    "\n",
    "Architecture overview:\n",
    "* Input layer: Accepts sequences of fixed length (seqLength) composed of integer-encoded tokens.\n",
    "Embedding layer: Transforms each integer into a dense vector of size 64 (embedding_dim). The output is a 2D matrix of shape (seqLength, 64) per input.\n",
    "* SimpleRNN layer: Processes the embedded sequence one time step at a time and outputs the final hidden state.\n",
    "* Dense layer: A single neuron with sigmoid activation that outputs a probability between 0 and 1 for binary classification.\n",
    "\n",
    "The model is compiled using the adam optimizer and trained with binary_crossentropy loss, suitable for binary sentiment classification. Training is performed on x_train_int and y_train, while performance is monitored on a validation split (x_val_split, y_val_split) using an EarlyStopping callback to prevent overfitting. After training, the model is evaluated on the final test set (x_test_split, y_test_split)."
   ]
  },
  {
   "cell_type": "code",
   "execution_count": null,
   "id": "4eae0b6d",
   "metadata": {},
   "outputs": [
    {
     "name": "stdout",
     "output_type": "stream",
     "text": [
      "Epoch 1/40\n",
      "\u001b[1m782/782\u001b[0m \u001b[32m━━━━━━━━━━━━━━━━━━━━\u001b[0m\u001b[37m\u001b[0m \u001b[1m21s\u001b[0m 26ms/step - accuracy: 0.6380 - loss: 0.6136 - val_accuracy: 0.8090 - val_loss: 0.4521\n",
      "Epoch 2/40\n",
      "\u001b[1m782/782\u001b[0m \u001b[32m━━━━━━━━━━━━━━━━━━━━\u001b[0m\u001b[37m\u001b[0m \u001b[1m20s\u001b[0m 26ms/step - accuracy: 0.8397 - loss: 0.3898 - val_accuracy: 0.7905 - val_loss: 0.4671\n",
      "Epoch 3/40\n",
      "\u001b[1m229/782\u001b[0m \u001b[32m━━━━━\u001b[0m\u001b[37m━━━━━━━━━━━━━━━\u001b[0m \u001b[1m12s\u001b[0m 23ms/step - accuracy: 0.8821 - loss: 0.3014"
     ]
    }
   ],
   "source": [
    "from tensorflow.keras import Input, Model\n",
    "from tensorflow.keras.layers import Embedding, SimpleRNN, Dense\n",
    "from tensorflow.keras.callbacks import EarlyStopping\n",
    "\n",
    "# Modelo SimpleRNN\n",
    "inputs_rnn = Input(shape=(seqLength,))\n",
    "x_rnn = Embedding(input_dim=maxFeatures, output_dim=64, mask_zero=True)(inputs_rnn)\n",
    "x_rnn = SimpleRNN(64)(x_rnn)\n",
    "outputs_rnn = Dense(1, activation='sigmoid')(x_rnn)\n",
    "model_rnn2 = Model(inputs_rnn, outputs_rnn)\n",
    "\n",
    "model_rnn2.compile(optimizer='adam', loss='binary_crossentropy', metrics=['accuracy'])\n",
    "\n",
    "early_stop = EarlyStopping(monitor='val_loss', patience=5, restore_best_weights=True)\n",
    "\n",
    "history_rnn2 = model_rnn2.fit(\n",
    "    x_train_int, y_train,\n",
    "    validation_data=(x_val_split, y_val_split),\n",
    "    epochs=40,\n",
    "    batch_size=32,\n",
    "    callbacks=[early_stop]\n",
    ")\n",
    "\n",
    "print(\"SimpleRNN evaluation:\", model_rnn2.evaluate(x_test_split, y_test_split, verbose=0))\n"
   ]
  },
  {
   "cell_type": "markdown",
   "id": "a97cfae4",
   "metadata": {},
   "source": [
    "# Build Model 2: LSTM + Dropout\n",
    "The second model builds on the limitations of SimpleRNN by using a Long Short-Term Memory (LSTM) layer, which is specifically designed to better capture long-term dependencies in sequences. LSTM cells incorporate mechanisms (gates) that control the flow of information, allowing the network to retain important features over longer time spans. This makes them particularly effective for text classification tasks.\n",
    "\n",
    "Architecture overview:\n",
    "* Embedding layer: Converts each word index into a dense vector of size embedding_dim = 64. The input shape is (seqLength, 64) per review.\n",
    "* LSTM layer: Processes the sequence and returns the final hidden state, capturing both short- and long-term patterns in the text.\n",
    "* Dropout layer: A regularization layer that randomly deactivates 50% of the neurons during training. This helps prevent overfitting.\n",
    "* Dense output layer: A single sigmoid-activated neuron that outputs a probability for binary sentiment classification (positive vs. negative).\n",
    "\n",
    "The model is trained on the integer-encoded reviews (x_train_int, y_train) and evaluated on a validation set (x_val_split, y_val_split). This setup allows us to monitor how well the model generalizes during training.\n",
    "\n"
   ]
  },
  {
   "cell_type": "code",
   "execution_count": 10,
   "id": "ac494941",
   "metadata": {},
   "outputs": [
    {
     "name": "stdout",
     "output_type": "stream",
     "text": [
      "Epoch 1/5\n",
      "\u001b[1m391/391\u001b[0m \u001b[32m━━━━━━━━━━━━━━━━━━━━\u001b[0m\u001b[37m\u001b[0m \u001b[1m30s\u001b[0m 64ms/step - accuracy: 0.5134 - loss: 0.6934 - val_accuracy: 0.5206 - val_loss: 0.6923\n",
      "Epoch 2/5\n",
      "\u001b[1m391/391\u001b[0m \u001b[32m━━━━━━━━━━━━━━━━━━━━\u001b[0m\u001b[37m\u001b[0m \u001b[1m17s\u001b[0m 44ms/step - accuracy: 0.5115 - loss: 0.6931 - val_accuracy: 0.5229 - val_loss: 0.6921\n",
      "Epoch 3/5\n",
      "\u001b[1m391/391\u001b[0m \u001b[32m━━━━━━━━━━━━━━━━━━━━\u001b[0m\u001b[37m\u001b[0m \u001b[1m16s\u001b[0m 41ms/step - accuracy: 0.5262 - loss: 0.6919 - val_accuracy: 0.5214 - val_loss: 0.6931\n",
      "Epoch 4/5\n",
      "\u001b[1m391/391\u001b[0m \u001b[32m━━━━━━━━━━━━━━━━━━━━\u001b[0m\u001b[37m\u001b[0m \u001b[1m28s\u001b[0m 71ms/step - accuracy: 0.5219 - loss: 0.6915 - val_accuracy: 0.7231 - val_loss: 0.5977\n",
      "Epoch 5/5\n",
      "\u001b[1m391/391\u001b[0m \u001b[32m━━━━━━━━━━━━━━━━━━━━\u001b[0m\u001b[37m\u001b[0m \u001b[1m33s\u001b[0m 84ms/step - accuracy: 0.6081 - loss: 0.6412 - val_accuracy: 0.5235 - val_loss: 0.6920\n"
     ]
    }
   ],
   "source": [
    "model_lstm = keras.Sequential([\n",
    "    layers.Embedding(maxFeatures, embedding_dim, input_length=seqLength),\n",
    "    layers.LSTM(64, return_sequences=False),\n",
    "    layers.Dropout(0.5),\n",
    "    layers.Dense(1, activation='sigmoid')\n",
    "])\n",
    "\n",
    "model_lstm.compile(optimizer='adam', loss='binary_crossentropy', metrics=['accuracy'])\n",
    "\n",
    "history_lstm = model_lstm.fit(\n",
    "    x_train_int, y_train,\n",
    "    validation_data=(x_val_split, y_val_split),\n",
    "    epochs=5,\n",
    "    batch_size=64\n",
    ")"
   ]
  },
  {
   "cell_type": "code",
   "execution_count": 17,
   "id": "cc2b8965",
   "metadata": {},
   "outputs": [
    {
     "name": "stdout",
     "output_type": "stream",
     "text": [
      "Epoch 1/40\n",
      "\u001b[1m782/782\u001b[0m \u001b[32m━━━━━━━━━━━━━━━━━━━━\u001b[0m\u001b[37m\u001b[0m \u001b[1m43s\u001b[0m 53ms/step - accuracy: 0.7176 - loss: 0.5590 - val_accuracy: 0.8178 - val_loss: 0.4271\n",
      "Epoch 2/40\n",
      "\u001b[1m782/782\u001b[0m \u001b[32m━━━━━━━━━━━━━━━━━━━━\u001b[0m\u001b[37m\u001b[0m \u001b[1m40s\u001b[0m 51ms/step - accuracy: 0.8484 - loss: 0.3664 - val_accuracy: 0.8405 - val_loss: 0.3763\n",
      "Epoch 3/40\n",
      "\u001b[1m782/782\u001b[0m \u001b[32m━━━━━━━━━━━━━━━━━━━━\u001b[0m\u001b[37m\u001b[0m \u001b[1m41s\u001b[0m 52ms/step - accuracy: 0.8841 - loss: 0.2938 - val_accuracy: 0.8524 - val_loss: 0.3656\n",
      "Epoch 4/40\n",
      "\u001b[1m782/782\u001b[0m \u001b[32m━━━━━━━━━━━━━━━━━━━━\u001b[0m\u001b[37m\u001b[0m \u001b[1m109s\u001b[0m 139ms/step - accuracy: 0.9159 - loss: 0.2264 - val_accuracy: 0.8594 - val_loss: 0.3857\n",
      "Epoch 5/40\n",
      "\u001b[1m782/782\u001b[0m \u001b[32m━━━━━━━━━━━━━━━━━━━━\u001b[0m\u001b[37m\u001b[0m \u001b[1m46s\u001b[0m 58ms/step - accuracy: 0.9335 - loss: 0.1834 - val_accuracy: 0.8534 - val_loss: 0.3862\n",
      "Epoch 6/40\n",
      "\u001b[1m782/782\u001b[0m \u001b[32m━━━━━━━━━━━━━━━━━━━━\u001b[0m\u001b[37m\u001b[0m \u001b[1m46s\u001b[0m 58ms/step - accuracy: 0.9401 - loss: 0.1699 - val_accuracy: 0.8591 - val_loss: 0.4090\n",
      "Epoch 7/40\n",
      "\u001b[1m782/782\u001b[0m \u001b[32m━━━━━━━━━━━━━━━━━━━━\u001b[0m\u001b[37m\u001b[0m \u001b[1m45s\u001b[0m 57ms/step - accuracy: 0.9581 - loss: 0.1246 - val_accuracy: 0.8446 - val_loss: 0.4011\n",
      "Epoch 8/40\n",
      "\u001b[1m782/782\u001b[0m \u001b[32m━━━━━━━━━━━━━━━━━━━━\u001b[0m\u001b[37m\u001b[0m \u001b[1m44s\u001b[0m 57ms/step - accuracy: 0.9589 - loss: 0.1191 - val_accuracy: 0.8493 - val_loss: 0.4541\n",
      "LSTM evaluation: [0.35911324620246887, 0.8560799956321716]\n"
     ]
    }
   ],
   "source": [
    "from tensorflow.keras.layers import LSTM, Dropout\n",
    "\n",
    "# Modelo LSTM\n",
    "inputs_lstm = Input(shape=(seqLength,))\n",
    "x_lstm = Embedding(input_dim=maxFeatures, output_dim=64, mask_zero=True)(inputs_lstm)\n",
    "x_lstm = LSTM(64, recurrent_dropout=0.3)(x_lstm)\n",
    "x_lstm = Dropout(0.3)(x_lstm)\n",
    "outputs_lstm = Dense(1, activation='sigmoid')(x_lstm)\n",
    "model_lstm2 = Model(inputs_lstm, outputs_lstm)\n",
    "\n",
    "model_lstm2.compile(optimizer='adam', loss='binary_crossentropy', metrics=['accuracy'])\n",
    "\n",
    "history_lstm2 = model_lstm2.fit(\n",
    "    x_train_int, y_train,\n",
    "    validation_data=(x_val_split, y_val_split),\n",
    "    epochs=40,\n",
    "    batch_size=32,\n",
    "    callbacks=[early_stop]\n",
    ")\n",
    "\n",
    "print(\"LSTM evaluation:\", model_lstm2.evaluate(x_test_split, y_test_split, verbose=0))\n"
   ]
  },
  {
   "cell_type": "markdown",
   "id": "ec1d64cc",
   "metadata": {},
   "source": [
    "# Build Model 3: Bidirectional LSTM\n",
    "The third model enhances the previous LSTM-based architecture by introducing a Bidirectional wrapper around the LSTM layer. In a standard LSTM, the sequence is processed in one direction (from past to future). With a bidirectional layer, the model processes the input sequence in both directions—forward and backward—capturing context from both past and future tokens simultaneously. This is especially useful in text classification tasks, where both left and right context contribute to the meaning of a sentence.\n",
    "\n",
    "Architecture overview:\n",
    "* Embedding layer: Maps each word index to a dense vector of embedding_dim = 64, creating a matrix representation for each input review.\n",
    "* Bidirectional LSTM layer: Wraps the standard LSTM to learn from both directions in the sequence, improving the model's ability to understand context.\n",
    "* Dense output layer: A single neuron with sigmoid activation to predict the binary class (positive or negative sentiment).\n",
    "\n",
    "This model is trained using the preprocessed training data (x_train_int, y_train) and validated on a separate validation set (x_val_split, y_val_split). The bidirectional nature of the LSTM often results in better accuracy, although it increases the computational cost."
   ]
  },
  {
   "cell_type": "code",
   "execution_count": 11,
   "id": "f7fad784",
   "metadata": {},
   "outputs": [
    {
     "name": "stdout",
     "output_type": "stream",
     "text": [
      "Epoch 1/5\n",
      "\u001b[1m391/391\u001b[0m \u001b[32m━━━━━━━━━━━━━━━━━━━━\u001b[0m\u001b[37m\u001b[0m \u001b[1m23s\u001b[0m 55ms/step - accuracy: 0.7437 - loss: 0.4938 - val_accuracy: 0.8730 - val_loss: 0.3020\n",
      "Epoch 2/5\n",
      "\u001b[1m391/391\u001b[0m \u001b[32m━━━━━━━━━━━━━━━━━━━━\u001b[0m\u001b[37m\u001b[0m \u001b[1m23s\u001b[0m 58ms/step - accuracy: 0.9265 - loss: 0.1983 - val_accuracy: 0.8794 - val_loss: 0.3163\n",
      "Epoch 3/5\n",
      "\u001b[1m391/391\u001b[0m \u001b[32m━━━━━━━━━━━━━━━━━━━━\u001b[0m\u001b[37m\u001b[0m \u001b[1m23s\u001b[0m 59ms/step - accuracy: 0.9549 - loss: 0.1286 - val_accuracy: 0.8725 - val_loss: 0.3230\n",
      "Epoch 4/5\n",
      "\u001b[1m391/391\u001b[0m \u001b[32m━━━━━━━━━━━━━━━━━━━━\u001b[0m\u001b[37m\u001b[0m \u001b[1m23s\u001b[0m 59ms/step - accuracy: 0.9693 - loss: 0.0924 - val_accuracy: 0.8660 - val_loss: 0.3441\n",
      "Epoch 5/5\n",
      "\u001b[1m391/391\u001b[0m \u001b[32m━━━━━━━━━━━━━━━━━━━━\u001b[0m\u001b[37m\u001b[0m \u001b[1m88s\u001b[0m 225ms/step - accuracy: 0.9734 - loss: 0.0802 - val_accuracy: 0.8712 - val_loss: 0.4095\n"
     ]
    }
   ],
   "source": [
    "model_bilstm = keras.Sequential([\n",
    "    layers.Embedding(maxFeatures, embedding_dim, input_length=seqLength),\n",
    "    layers.Bidirectional(layers.LSTM(64)),\n",
    "    layers.Dense(1, activation='sigmoid')\n",
    "])\n",
    "\n",
    "model_bilstm.compile(optimizer='adam', loss='binary_crossentropy', metrics=['accuracy'])\n",
    "\n",
    "history_bilstm = model_bilstm.fit(\n",
    "    x_train_int, y_train,\n",
    "    validation_data=(x_val_split, y_val_split),\n",
    "    epochs=5,\n",
    "    batch_size=64\n",
    ")"
   ]
  },
  {
   "cell_type": "code",
   "execution_count": 18,
   "id": "4257e0a0",
   "metadata": {},
   "outputs": [
    {
     "name": "stdout",
     "output_type": "stream",
     "text": [
      "Epoch 1/40\n",
      "\u001b[1m782/782\u001b[0m \u001b[32m━━━━━━━━━━━━━━━━━━━━\u001b[0m\u001b[37m\u001b[0m \u001b[1m40s\u001b[0m 49ms/step - accuracy: 0.7883 - loss: 0.4293 - val_accuracy: 0.8849 - val_loss: 0.2771\n",
      "Epoch 2/40\n",
      "\u001b[1m782/782\u001b[0m \u001b[32m━━━━━━━━━━━━━━━━━━━━\u001b[0m\u001b[37m\u001b[0m \u001b[1m38s\u001b[0m 48ms/step - accuracy: 0.9391 - loss: 0.1668 - val_accuracy: 0.8658 - val_loss: 0.3215\n",
      "Epoch 3/40\n",
      "\u001b[1m782/782\u001b[0m \u001b[32m━━━━━━━━━━━━━━━━━━━━\u001b[0m\u001b[37m\u001b[0m \u001b[1m37s\u001b[0m 47ms/step - accuracy: 0.9703 - loss: 0.0928 - val_accuracy: 0.8682 - val_loss: 0.4126\n",
      "Epoch 4/40\n",
      "\u001b[1m782/782\u001b[0m \u001b[32m━━━━━━━━━━━━━━━━━━━━\u001b[0m\u001b[37m\u001b[0m \u001b[1m38s\u001b[0m 49ms/step - accuracy: 0.9848 - loss: 0.0477 - val_accuracy: 0.8639 - val_loss: 0.4510\n",
      "Epoch 5/40\n",
      "\u001b[1m782/782\u001b[0m \u001b[32m━━━━━━━━━━━━━━━━━━━━\u001b[0m\u001b[37m\u001b[0m \u001b[1m54s\u001b[0m 69ms/step - accuracy: 0.9926 - loss: 0.0250 - val_accuracy: 0.8693 - val_loss: 0.5013\n",
      "Epoch 6/40\n",
      "\u001b[1m782/782\u001b[0m \u001b[32m━━━━━━━━━━━━━━━━━━━━\u001b[0m\u001b[37m\u001b[0m \u001b[1m56s\u001b[0m 72ms/step - accuracy: 0.9954 - loss: 0.0155 - val_accuracy: 0.8615 - val_loss: 0.6290\n",
      "Bidirectional LSTM evaluation: [0.26997026801109314, 0.8895999789237976]\n"
     ]
    }
   ],
   "source": [
    "from tensorflow.keras.layers import Bidirectional\n",
    "\n",
    "# Modelo Bidirectional LSTM\n",
    "inputs_bilstm = Input(shape=(seqLength,))\n",
    "x_bilstm = Embedding(input_dim=maxFeatures, output_dim=64, mask_zero=True)(inputs_bilstm)\n",
    "x_bilstm = Bidirectional(LSTM(64))(x_bilstm)\n",
    "outputs_bilstm = Dense(1, activation='sigmoid')(x_bilstm)\n",
    "model_bilstm2 = Model(inputs_bilstm, outputs_bilstm)\n",
    "\n",
    "model_bilstm2.compile(optimizer='adam', loss='binary_crossentropy', metrics=['accuracy'])\n",
    "\n",
    "history_bilstm2 = model_bilstm2.fit(\n",
    "    x_train_int, y_train,\n",
    "    validation_data=(x_val_split, y_val_split),\n",
    "    epochs=40,\n",
    "    batch_size=32,\n",
    "    callbacks=[early_stop]\n",
    ")\n",
    "\n",
    "print(\"Bidirectional LSTM evaluation:\", model_bilstm2.evaluate(x_test_split, y_test_split, verbose=0))\n"
   ]
  },
  {
   "cell_type": "markdown",
   "id": "08c2cf02",
   "metadata": {},
   "source": [
    "# Visualization of training results\n",
    "We plot the accuracy of each model over the training epochs to visually compare their performance. This helps to detect underfitting, overfitting, and general learning trends."
   ]
  },
  {
   "cell_type": "code",
   "execution_count": null,
   "id": "d4ba13f3",
   "metadata": {},
   "outputs": [
    {
     "data": {
      "image/png": "[encoded data removed]",
      "text/plain": [
       "<Figure size 640x480 with 1 Axes>"
      ]
     },
     "metadata": {},
     "output_type": "display_data"
    },
    {
     "data": {
      "image/png": "[encoded data removed]",
      "text/plain": [
       "<Figure size 640x480 with 1 Axes>"
      ]
     },
     "metadata": {},
     "output_type": "display_data"
    },
    {
     "data": {
      "image/png": "[encoded data removed]",
      "text/plain": [
       "<Figure size 640x480 with 1 Axes>"
      ]
     },
     "metadata": {},
     "output_type": "display_data"
    },
    {
     "ename": "NameError",
     "evalue": "name 'history_rnn2' is not defined",
     "output_type": "error",
     "traceback": [
      "\u001b[1;31m---------------------------------------------------------------------------\u001b[0m",
      "\u001b[1;31mNameError\u001b[0m                                 Traceback (most recent call last)",
      "Cell \u001b[1;32mIn[19], line 14\u001b[0m\n\u001b[0;32m     12\u001b[0m plot_history(history_lstm, \u001b[38;5;124m'\u001b[39m\u001b[38;5;124mLSTM 1 Accuracy\u001b[39m\u001b[38;5;124m'\u001b[39m)\n\u001b[0;32m     13\u001b[0m plot_history(history_bilstm, \u001b[38;5;124m'\u001b[39m\u001b[38;5;124mBidirectional LSTM 1 Accuracy\u001b[39m\u001b[38;5;124m'\u001b[39m)\n\u001b[1;32m---> 14\u001b[0m plot_history(\u001b[43mhistory_rnn2\u001b[49m, \u001b[38;5;124m'\u001b[39m\u001b[38;5;124mSimpleRNN 2 Accuracy\u001b[39m\u001b[38;5;124m'\u001b[39m)\n\u001b[0;32m     15\u001b[0m plot_history(history_lstm2, \u001b[38;5;124m'\u001b[39m\u001b[38;5;124mLSTM 2 Accuracy\u001b[39m\u001b[38;5;124m'\u001b[39m)\n\u001b[0;32m     16\u001b[0m plot_history(history_bilstm2, \u001b[38;5;124m'\u001b[39m\u001b[38;5;124mBidirectional LSTM 2 Accuracy\u001b[39m\u001b[38;5;124m'\u001b[39m)\n",
      "\u001b[1;31mNameError\u001b[0m: name 'history_rnn2' is not defined"
     ]
    }
   ],
   "source": [
    "def plot_history(history, title):\n",
    "    plt.plot(history.history['accuracy'], label='train')\n",
    "    plt.plot(history.history['val_accuracy'], label='val')\n",
    "    plt.title(title)\n",
    "    plt.ylabel('Accuracy')\n",
    "    plt.xlabel('Epoch')\n",
    "    plt.legend()\n",
    "    plt.grid(True)\n",
    "    plt.show()\n",
    "\n",
    "plot_history(history_rnn, 'SimpleRNN 1 Accuracy')\n",
    "plot_history(history_lstm, 'LSTM 1 Accuracy')\n",
    "plot_history(history_bilstm, 'Bidirectional LSTM 1 Accuracy')\n",
    "plot_history(history_rnn2, 'SimpleRNN 2 Accuracy')\n",
    "plot_history(history_lstm2, 'LSTM 2 Accuracy')\n",
    "plot_history(history_bilstm2, 'Bidirectional LSTM 2 Accuracy')"
   ]
  },
  {
   "cell_type": "markdown",
   "id": "b74fce50",
   "metadata": {},
   "source": [
    "# Final evaluation and conclusions\n",
    "In this section we show the final results on the test set. The main metric used is accuracy. We compare the performance of each architecture to assess which one generalizes better."
   ]
  },
  {
   "cell_type": "markdown",
   "id": "01a87585",
   "metadata": {},
   "source": [
    "After training and validating each model, we now evaluate their performance on the final test set (`x_test_split`, `y_test_split`). This evaluation provides an unbiased estimate of how well each model generalizes to completely unseen data.\n",
    "\n",
    "The reported accuracy values will help compare the effectiveness of each architecture:\n",
    "* `SimpleRNN`: baseline performance using a basic recurrent unit.\n",
    "* `LSTM`: expected to perform better thanks to its ability to capture long-term dependencies.\n",
    "* `Bidirectional LSTM`: potentially best results due to its access to both past and future context.\n",
    "\n",
    "The goal is to identify which model achieves the highest test accuracy and assess the trade-off between performance and model complexity.\n"
   ]
  },
  {
   "cell_type": "code",
   "execution_count": null,
   "id": "5e0e847d",
   "metadata": {},
   "outputs": [
    {
     "name": "stdout",
     "output_type": "stream",
     "text": [
      "Final Evaluation:\n",
      "SimpleRNN: [0.7149720191955566, 0.5122399926185608]\n",
      "LSTM: [0.6936721205711365, 0.5125600099563599]\n",
      "Bidirectional LSTM: [0.39305296540260315, 0.875760018825531]\n"
     ]
    }
   ],
   "source": [
    "print(\"Final Evaluation:\")\n",
    "print(\"SimpleRNN 1:\", model_rnn.evaluate(x_test_split, y_test_split, verbose=0))\n",
    "print(\"LSTM 1\", model_lstm.evaluate(x_test_split, y_test_split, verbose=0))\n",
    "print(\"Bidirectional LSTM 1:\", model_bilstm.evaluate(x_test_split, y_test_split, verbose=0))\n",
    "print(\"SimpleRNN 2:\", model_rnn2.evaluate(x_test_split, y_test_split, verbose=0))\n",
    "print(\"LSTM 2\", model_lstm2.evaluate(x_test_split, y_test_split, verbose=0))\n",
    "print(\"Bidirectional LSTM 2:\", model_bilstm2.evaluate(x_test_split, y_test_split, verbose=0))"
   ]
  },
  {
   "cell_type": "markdown",
   "id": "8c49ae0c",
   "metadata": {},
   "source": [
    "# Regularization Techniques in RNNs\n",
    "In order to improve the generalization ability of recurrent neural networks and mitigate overfitting, we explore various weight regularization techniques applied to SIMPLE RNN and LSTM-based models. While dropout is a common approach for regularization, its performance in previous experiments did not significantly reduce overfitting. Therefore, we now focus on alternative methods: L1, L2, and L1_L2 (Elastic Net) regularization.\n",
    "\n",
    "These techniques work by penalizing large weights during training, thus encouraging the model to learn simpler, more robust representations:\n",
    "* L1 regularization: Encourages sparsity by adding the sum of absolute values of the weights to the loss function. It tends to push less useful weights to zero.\n",
    "* L2 regularization: Penalizes large weights by adding the sum of squared weights to the loss. It promotes smaller, more uniformly distributed weights.\n",
    "* L1_L2 regularization: Combines both penalties to benefit from sparsity and small weight magnitudes simultaneously.\n",
    "\n",
    "Each model below uses the same architecture and training setup, differing only in the applied regularization technique."
   ]
  },
  {
   "cell_type": "code",
   "execution_count": null,
   "id": "3f060039",
   "metadata": {},
   "outputs": [],
   "source": [
    "from tensorflow.keras import regularizers"
   ]
  },
  {
   "cell_type": "markdown",
   "id": "81c7802c",
   "metadata": {},
   "source": [
    "## SimpleRNN with L1 Regularization\n",
    "This model applies L1 regularization to both the input and recurrent connections of the SimpleRNN layer. L1 regularization helps reduce model complexity by zeroing out less important weights, which can lead to sparser representations.\n",
    "\n",
    "* Regularizer used: regularizers.l1(0.01)\n",
    "* Expected effect: May reduce overfitting, but might slightly limit model capacity due to increased sparsity.\n",
    "* Evaluation: Compared to the base model, performance is analyzed on the validation and test sets"
   ]
  },
  {
   "cell_type": "code",
   "execution_count": null,
   "id": "41aeb5e9",
   "metadata": {},
   "outputs": [],
   "source": [
    "l1_reg = regularizers.l1(0.01)\n",
    "\n",
    "inputs_rnn_l1 = Input(shape=(seqLength,))\n",
    "x_rnn_l1 = Embedding(maxFeatures, 64, mask_zero=True)(inputs_rnn_l1)\n",
    "x_rnn_l1 = SimpleRNN(64, kernel_regularizer=l1_reg, recurrent_regularizer=l1_reg)(x_rnn_l1)\n",
    "output_rnn_l1 = Dense(1, activation='sigmoid')(x_rnn_l1)\n",
    "\n",
    "model_rnn_l1 = Model(inputs_rnn_l1, output_rnn_l1)\n",
    "model_rnn_l1.compile(optimizer='adam', loss='binary_crossentropy', metrics=['accuracy'])\n",
    "\n",
    "history_rnn_l1 = model_rnn_l1.fit(\n",
    "    x_train_int, y_train,\n",
    "    validation_data=(x_val_split, y_val_split),\n",
    "    epochs=40,\n",
    "    batch_size=32,\n",
    "    callbacks=[early_stop]\n",
    ")\n",
    "\n",
    "print(\"SimpleRNN + L1 evaluation:\", model_rnn_l1.evaluate(x_test_split, y_test_split, verbose=0))"
   ]
  },
  {
   "cell_type": "markdown",
   "id": "7ef8734b",
   "metadata": {},
   "source": [
    "## SimpleRNN with L2 Regularization\n",
    "Here, we apply L2 regularization (also known as ridge regularization) to the SimpleRNN layer. L2 penalizes large weights, encouraging the network to maintain small and stable values throughout training.\n",
    "\n",
    "* Regularizer used: regularizers.l2(0.01)\n",
    "* Expected effect: Leads to smoother convergence and improved generalization, especially on noisy data.\n",
    "* Comparison goal: Analyze whether L2 outperforms L1 in maintaining performance while reducing overfitting."
   ]
  },
  {
   "cell_type": "code",
   "execution_count": null,
   "id": "ed2aa663",
   "metadata": {},
   "outputs": [],
   "source": [
    "l2_reg = regularizers.l2(0.01)\n",
    "\n",
    "inputs_rnn_l2 = Input(shape=(seqLength,))\n",
    "x_rnn_l2 = Embedding(maxFeatures, 64, mask_zero=True)(inputs_rnn_l2)\n",
    "x_rnn_l2 = SimpleRNN(64, kernel_regularizer=l2_reg, recurrent_regularizer=l2_reg)(x_rnn_l2)\n",
    "output_rnn_l2 = Dense(1, activation='sigmoid')(x_rnn_l2)\n",
    "\n",
    "model_rnn_l2 = Model(inputs_rnn_l2, output_rnn_l2)\n",
    "model_rnn_l2.compile(optimizer='adam', loss='binary_crossentropy', metrics=['accuracy'])\n",
    "\n",
    "history_rnn_l2 = model_rnn_l2.fit(\n",
    "    x_train_int, y_train,\n",
    "    validation_data=(x_val_split, y_val_split),\n",
    "    epochs=40,\n",
    "    batch_size=32,\n",
    "    callbacks=[early_stop]\n",
    ")\n",
    "\n",
    "print(\"SimpleRNN + L2 evaluation:\", model_rnn_l2.evaluate(x_test_split, y_test_split, verbose=0))"
   ]
  },
  {
   "cell_type": "markdown",
   "id": "479ea244",
   "metadata": {},
   "source": [
    "## SimpleRNN with L1_L2 Regularization\n",
    "This final variant combines both L1 and L2 regularization techniques through the l1_l2 penalty. It attempts to benefit from the sparsity of L1 and the weight smoothing of L2 simultaneously.\n",
    "\n",
    "* Regularizer used: regularizers.l1_l2(l1=0.01, l2=0.01)\n",
    "* Expected effect: Strikes a balance between pruning irrelevant weights and regularizing important ones.\n",
    "* Evaluation: This model is often a good compromise when neither L1 nor L2 alone gives optimal results."
   ]
  },
  {
   "cell_type": "code",
   "execution_count": null,
   "id": "78bac840",
   "metadata": {},
   "outputs": [],
   "source": [
    "l1_l2_reg = regularizers.l1_l2(l1=0.01, l2=0.01)\n",
    "\n",
    "inputs_rnn_l1l2 = Input(shape=(seqLength,))\n",
    "x_rnn_l1l2 = Embedding(maxFeatures, 64, mask_zero=True)(inputs_rnn_l1l2)\n",
    "x_rnn_l1l2 = SimpleRNN(64, kernel_regularizer=l1_l2_reg, recurrent_regularizer=l1_l2_reg)(x_rnn_l1l2)\n",
    "output_rnn_l1l2 = Dense(1, activation='sigmoid')(x_rnn_l1l2)\n",
    "\n",
    "model_rnn_l1l2 = Model(inputs_rnn_l1l2, output_rnn_l1l2)\n",
    "model_rnn_l1l2.compile(optimizer='adam', loss='binary_crossentropy', metrics=['accuracy'])\n",
    "\n",
    "history_rnn_l1l2 = model_rnn_l1l2.fit(\n",
    "    x_train_int, y_train,\n",
    "    validation_data=(x_val_split, y_val_split),\n",
    "    epochs=40,\n",
    "    batch_size=32,\n",
    "    callbacks=[early_stop]\n",
    ")\n",
    "\n",
    "print(\"SimpleRNN + L1_L2 evaluation:\", model_rnn_l1l2.evaluate(x_test_split, y_test_split, verbose=0))"
   ]
  },
  {
   "cell_type": "markdown",
   "id": "12e95512",
   "metadata": {},
   "source": [
    "## LSTM with L1 Regularization\n",
    "In this model, we apply L1 regularization to both the input and recurrent connections of the LSTM layer. This encourages the model to zero out less relevant weights, promoting sparsity in the learned representation.\n",
    "\n",
    "* Regularizer: regularizers.l1(0.01)\n",
    "* Expected effect: May reduce overfitting by simplifying the model, though sometimes at the cost of slightly reduced performance.\n",
    "* Training: Same number of epochs and validation strategy as in previous models."
   ]
  },
  {
   "cell_type": "code",
   "execution_count": null,
   "id": "60306a3a",
   "metadata": {},
   "outputs": [],
   "source": [
    "l1_reg = regularizers.l1(0.01)\n",
    "\n",
    "inputs_l1 = Input(shape=(seqLength,))\n",
    "x_l1 = Embedding(input_dim=maxFeatures, output_dim=64, mask_zero=True)(inputs_l1)\n",
    "x_l1 = LSTM(64, kernel_regularizer=l1_reg, recurrent_regularizer=l1_reg)(x_l1)\n",
    "output_l1 = Dense(1, activation='sigmoid')(x_l1)\n",
    "\n",
    "model_l1 = Model(inputs_l1, output_l1)\n",
    "model_l1.compile(optimizer='adam', loss='binary_crossentropy', metrics=['accuracy'])\n",
    "\n",
    "history_l1 = model_l1.fit(\n",
    "    x_train_int, y_train,\n",
    "    validation_data=(x_val_split, y_val_split),\n",
    "    epochs=40,\n",
    "    batch_size=32,\n",
    "    callbacks=[early_stop]\n",
    ")\n",
    "\n",
    "print(\"LSTM + L1 evaluation:\", model_l1.evaluate(x_test_split, y_test_split, verbose=0))"
   ]
  },
  {
   "cell_type": "markdown",
   "id": "44a22e1c",
   "metadata": {},
   "source": [
    "## LSTM with L2 Regularization\n",
    "Here, we apply L2 regularization, also known as ridge regularization, which penalizes large weight values but keeps them close to zero rather than eliminating them entirely. It leads to smoother and more stable weight distributions.\n",
    "\n",
    "* Regularizer: regularizers.l2(0.01)\n",
    "* Expected effect: Can improve generalization without heavily impacting the model's capacity.\n",
    "* Training setup: Identical to the L1 version for a fair comparison."
   ]
  },
  {
   "cell_type": "code",
   "execution_count": null,
   "id": "243fe40c",
   "metadata": {},
   "outputs": [],
   "source": [
    "l2_reg = regularizers.l2(0.01)\n",
    "\n",
    "inputs_l2 = Input(shape=(seqLength,))\n",
    "x_l2 = Embedding(input_dim=maxFeatures, output_dim=64, mask_zero=True)(inputs_l2)\n",
    "x_l2 = LSTM(64, kernel_regularizer=l2_reg, recurrent_regularizer=l2_reg)(x_l2)\n",
    "output_l2 = Dense(1, activation='sigmoid')(x_l2)\n",
    "\n",
    "model_l2 = Model(inputs_l2, output_l2)\n",
    "model_l2.compile(optimizer='adam', loss='binary_crossentropy', metrics=['accuracy'])\n",
    "\n",
    "history_l2 = model_l2.fit(\n",
    "    x_train_int, y_train,\n",
    "    validation_data=(x_val_split, y_val_split),\n",
    "    epochs=40,\n",
    "    batch_size=32,\n",
    "    callbacks=[early_stop]\n",
    ")\n",
    "\n",
    "print(\"LSTM + L2 evaluation:\", model_l2.evaluate(x_test_split, y_test_split, verbose=0))"
   ]
  },
  {
   "cell_type": "markdown",
   "id": "98aa9aac",
   "metadata": {},
   "source": [
    "## LSTM with L1_L2 Regularization\n",
    "In this final model, we combine L1 and L2 penalties in a single L1_L2 regularizer. This hybrid approach allows us to benefit from the sparsity-inducing behavior of L1 and the stabilizing effect of L2.\n",
    "\n",
    "* Regularizer: regularizers.l1_l2(l1=0.01, l2=0.01)\n",
    "* Expected effect: Offers a balance between weight pruning and smooth generalization.\n",
    "* Use case: Often preferred when neither L1 nor L2 alone yields optimal results."
   ]
  },
  {
   "cell_type": "code",
   "execution_count": null,
   "id": "93bae9b0",
   "metadata": {},
   "outputs": [],
   "source": [
    "l1_l2_reg = regularizers.l1_l2(l1=0.01, l2=0.01)\n",
    "\n",
    "inputs_l1l2 = Input(shape=(seqLength,))\n",
    "x_l1l2 = Embedding(input_dim=maxFeatures, output_dim=64, mask_zero=True)(inputs_l1l2)\n",
    "x_l1l2 = LSTM(64, kernel_regularizer=l1_l2_reg, recurrent_regularizer=l1_l2_reg)(x_l1l2)\n",
    "output_l1l2 = Dense(1, activation='sigmoid')(x_l1l2)\n",
    "\n",
    "model_l1l2 = Model(inputs_l1l2, output_l1l2)\n",
    "model_l1l2.compile(optimizer='adam', loss='binary_crossentropy', metrics=['accuracy'])\n",
    "\n",
    "history_l1l2 = model_l1l2.fit(\n",
    "    x_train_int, y_train,\n",
    "    validation_data=(x_val_split, y_val_split),\n",
    "    epochs=40,\n",
    "    batch_size=32,\n",
    "    callbacks=[early_stop]\n",
    ")\n",
    "\n",
    "print(\"LSTM + L1_L2 evaluation:\", model_l1l2.evaluate(x_test_split, y_test_split, verbose=0))"
   ]
  },
  {
   "cell_type": "code",
   "execution_count": null,
   "id": "3f376a2c",
   "metadata": {},
   "outputs": [],
   "source": [
    "def plot_history_comparison(histories, labels):\n",
    "    import matplotlib.pyplot as plt\n",
    "    plt.figure(figsize=(10, 6))\n",
    "    for history, label in zip(histories, labels):\n",
    "        plt.plot(history.history['val_accuracy'], label=f\"{label} (val acc)\")\n",
    "    plt.xlabel(\"Epochs\")\n",
    "    plt.ylabel(\"Validation Accuracy\")\n",
    "    plt.title(\"Validation Accuracy Comparison\")\n",
    "    plt.legend()\n",
    "    plt.grid(True)\n",
    "    plt.show()\n",
    "\n",
    "plot_history_comparison(\n",
    "    [history_l1, history_l2, history_l1l2],\n",
    "    [\"L1\", \"L2\", \"L1_L2\"]\n",
    ")\n"
   ]
  }
 ],
 "metadata": {
  "kernelspec": {
   "display_name": "base",
   "language": "python",
   "name": "python3"
  },
  "language_info": {
   "codemirror_mode": {
    "name": "ipython",
    "version": 3
   },
   "file_extension": ".py",
   "mimetype": "text/x-python",
   "name": "python",
   "nbconvert_exporter": "python",
   "pygments_lexer": "ipython3",
   "version": "3.10.15"
  }
 },
 "nbformat": 4,
 "nbformat_minor": 5
}
